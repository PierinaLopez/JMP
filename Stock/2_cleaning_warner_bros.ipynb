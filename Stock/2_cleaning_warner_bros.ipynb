{
 "cells": [
  {
   "cell_type": "code",
   "execution_count": 4,
   "metadata": {},
   "outputs": [
    {
     "name": "stdout",
     "output_type": "stream",
     "text": [
      "Columns in the dataset: Index(['Date', 'Open', 'High', 'Low', 'Close', 'Volume', 'Dividends',\n",
      "       'Stock Splits'],\n",
      "      dtype='object')\n"
     ]
    },
    {
     "data": {
      "text/plain": [
       "('datasets/training_warner.csv', 'datasets/testing_warner.csv')"
      ]
     },
     "execution_count": 4,
     "metadata": {},
     "output_type": "execute_result"
    }
   ],
   "source": [
    "import pandas as pd\n",
    "\n",
    "\n",
    "#loading dataset \n",
    "file_path = 'datasets/warner_bros_daily.csv'  \n",
    "data = pd.read_csv(file_path)\n",
    "\n",
    "# checking for column names, since I want to remove everything except Date and Close\n",
    "print(\"Columns in the dataset:\", data.columns)\n",
    "\n",
    "#converting to datetime format\n",
    "data['Date'] = pd.to_datetime(data['Date'], errors='coerce', utc=True).dt.tz_localize(None)\n",
    "\n",
    "# dropping any rows with invalid date format if there are any\n",
    "data.dropna(subset=['Date'], inplace=True)\n",
    "\n",
    "# keeping only Date and Close columns\n",
    "data = data[['Date', 'Close']]\n",
    "\n",
    "# splitting the dataset into training and testing based on the dates\n",
    "training_data = data[data['Date'] <= pd.to_datetime('2019-12-31')]\n",
    "testing_data = data[data['Date'] >= pd.to_datetime('2020-01-01')]\n",
    "\n",
    "# saving the files\n",
    "training_file_path = 'datasets/training_warner.csv'\n",
    "testing_file_path = 'datasets/testing_warner.csv'\n",
    "\n",
    "training_data.to_csv(training_file_path, index=False)\n",
    "testing_data.to_csv(testing_file_path, index=False)\n",
    "\n",
    "training_file_path, testing_file_path"
   ]
  },
  {
   "cell_type": "markdown",
   "metadata": {},
   "source": [
    "The dataset was cleaned to focus only on Date and Close colum to keep only most relevant data. I added a function to remove invalid or missing dates. I converted the Date column to datetime format so it would be easier with time-series handling. Then I splitted the data into training and testing to make sure there was no leakage. What I found interesting is that I had to keep only the Close price column since it was giving me problems while training the model, this helped a lot."
   ]
  }
 ],
 "metadata": {
  "kernelspec": {
   "display_name": "Python 3",
   "language": "python",
   "name": "python3"
  },
  "language_info": {
   "codemirror_mode": {
    "name": "ipython",
    "version": 3
   },
   "file_extension": ".py",
   "mimetype": "text/x-python",
   "name": "python",
   "nbconvert_exporter": "python",
   "pygments_lexer": "ipython3",
   "version": "3.10.1"
  }
 },
 "nbformat": 4,
 "nbformat_minor": 2
}
