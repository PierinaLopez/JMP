{
 "cells": [
  {
   "cell_type": "code",
   "execution_count": 19,
   "metadata": {},
   "outputs": [
    {
     "name": "stdout",
     "output_type": "stream",
     "text": [
      "                               Open      High       Low     Close   Volume  \\\n",
      "Date                                                                         \n",
      "1962-01-02 00:00:00-05:00  0.057941  0.059886  0.057941  0.057941   841958   \n",
      "1962-01-03 00:00:00-05:00  0.057941  0.058914  0.057941  0.058719   801865   \n",
      "1962-01-04 00:00:00-05:00  0.058719  0.058914  0.058331  0.058719   962238   \n",
      "1962-01-05 00:00:00-05:00  0.058719  0.059108  0.058525  0.058914   962238   \n",
      "1962-01-08 00:00:00-05:00  0.058914  0.059691  0.057553  0.058719  1282984   \n",
      "\n",
      "                           Dividends  Stock Splits  \n",
      "Date                                                \n",
      "1962-01-02 00:00:00-05:00        0.0           0.0  \n",
      "1962-01-03 00:00:00-05:00        0.0           0.0  \n",
      "1962-01-04 00:00:00-05:00        0.0           0.0  \n",
      "1962-01-05 00:00:00-05:00        0.0           0.0  \n",
      "1962-01-08 00:00:00-05:00        0.0           0.0  \n",
      "Historical Disney stock data saved to 'disney_daily.csv'\n"
     ]
    }
   ],
   "source": [
    "import yfinance as yf\n",
    "import pandas as pd\n",
    "\n",
    "# Fetch Disney stock data\n",
    "disney = yf.Ticker(\"DIS\")\n",
    "\n",
    "# Get all historical market data available\n",
    "hist = disney.history(period=\"max\")\n",
    "\n",
    "# Save to CSV file\n",
    "hist.to_csv(\"datasets/disney_daily.csv\")\n",
    "\n",
    "# Print the first few rows to verify\n",
    "print(hist.head())\n",
    "\n",
    "print(f\"Historical Disney stock data saved to 'disney_daily.csv'\")"
   ]
  },
  {
   "cell_type": "code",
   "execution_count": 20,
   "metadata": {},
   "outputs": [
    {
     "name": "stdout",
     "output_type": "stream",
     "text": [
      "                               Open      High       Low     Close   Volume  \\\n",
      "Date                                                                         \n",
      "2005-07-08 00:00:00-04:00  7.920286  8.048033  7.537046  7.818089  4067624   \n",
      "2005-07-11 00:00:00-04:00  7.818089  7.894737  7.715892  7.843638  1382425   \n",
      "2005-07-12 00:00:00-04:00  8.022483  8.329075  7.971385  8.252427  1230170   \n",
      "2005-07-13 00:00:00-04:00  8.303526  8.303526  8.124681  8.124681  1233889   \n",
      "2005-07-14 00:00:00-04:00  8.175779  8.175779  8.073582  8.124681  2311608   \n",
      "\n",
      "                           Dividends  Stock Splits  \n",
      "Date                                                \n",
      "2005-07-08 00:00:00-04:00        0.0           0.0  \n",
      "2005-07-11 00:00:00-04:00        0.0           0.0  \n",
      "2005-07-12 00:00:00-04:00        0.0           0.0  \n",
      "2005-07-13 00:00:00-04:00        0.0           0.0  \n",
      "2005-07-14 00:00:00-04:00        0.0           0.0  \n",
      "Historical Warner Bros Discovery stock data saved to 'warner_bros_daily.csv'\n"
     ]
    }
   ],
   "source": [
    "import yfinance as yf\n",
    "import pandas as pd\n",
    "\n",
    "# Fetch Disney stock data\n",
    "disney = yf.Ticker(\"WBD\")\n",
    "\n",
    "# Get all historical market data available\n",
    "hist = disney.history(period=\"max\")\n",
    "\n",
    "# Save to CSV file\n",
    "hist.to_csv(\"datasets/warner_bros_daily.csv\")\n",
    "\n",
    "# Print the first few rows to verify\n",
    "print(hist.head())\n",
    "\n",
    "print(f\"Historical Warner Bros Discovery stock data saved to 'warner_bros_daily.csv'\")"
   ]
  }
 ],
 "metadata": {
  "kernelspec": {
   "display_name": ".venv",
   "language": "python",
   "name": "python3"
  },
  "language_info": {
   "codemirror_mode": {
    "name": "ipython",
    "version": 3
   },
   "file_extension": ".py",
   "mimetype": "text/x-python",
   "name": "python",
   "nbconvert_exporter": "python",
   "pygments_lexer": "ipython3",
   "version": "3.12.0"
  }
 },
 "nbformat": 4,
 "nbformat_minor": 2
}
