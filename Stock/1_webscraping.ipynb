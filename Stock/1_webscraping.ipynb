{
 "cells": [
  {
   "cell_type": "code",
   "execution_count": 2,
   "metadata": {},
   "outputs": [
    {
     "name": "stdout",
     "output_type": "stream",
     "text": [
      "Historical Warner Bros Discovery stock data saved to 'warner_bros_daily.csv'\n"
     ]
    }
   ],
   "source": [
    "import yfinance as yf\n",
    "import pandas as pd\n",
    "\n",
    "# fetching stock data\n",
    "disney = yf.Ticker(\"WBD\")\n",
    "hist = disney.history(period=\"max\")\n",
    "\n",
    "# save to CSV file\n",
    "hist.to_csv(\"datasets/warner_bros_daily.csv\")\n",
    "print(f\"Historical Warner Bros Discovery stock data saved to 'warner_bros_daily.csv'\")"
   ]
  },
  {
   "cell_type": "code",
   "execution_count": 3,
   "metadata": {},
   "outputs": [
    {
     "name": "stdout",
     "output_type": "stream",
     "text": [
      "Historical Disney stock data saved to 'disney_daily.csv'\n"
     ]
    }
   ],
   "source": [
    "import yfinance as yf\n",
    "import pandas as pd\n",
    "\n",
    "# fetching stock data\n",
    "disney = yf.Ticker(\"DIS\")\n",
    "hist = disney.history(period=\"max\")\n",
    "\n",
    "# save to CSV file\n",
    "hist.to_csv(\"datasets/disney_daily.csv\")\n",
    "\n",
    "print(f\"Historical Disney stock data saved to 'disney_daily.csv'\")"
   ]
  },
  {
   "cell_type": "markdown",
   "metadata": {},
   "source": [
    "To scrape the data I used yfinance as it is very simple to use and gets the job done very quick."
   ]
  }
 ],
 "metadata": {
  "kernelspec": {
   "display_name": "Python 3",
   "language": "python",
   "name": "python3"
  },
  "language_info": {
   "codemirror_mode": {
    "name": "ipython",
    "version": 3
   },
   "file_extension": ".py",
   "mimetype": "text/x-python",
   "name": "python",
   "nbconvert_exporter": "python",
   "pygments_lexer": "ipython3",
   "version": "3.10.1"
  }
 },
 "nbformat": 4,
 "nbformat_minor": 2
}
