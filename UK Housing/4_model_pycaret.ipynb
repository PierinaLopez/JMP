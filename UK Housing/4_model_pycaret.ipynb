{
 "cells": [
  {
   "cell_type": "markdown",
   "metadata": {},
   "source": [
    "# Pycaret Model\n",
    "\n",
    "### First, import the necessary libraries"
   ]
  },
  {
   "cell_type": "code",
   "execution_count": 2,
   "metadata": {},
   "outputs": [],
   "source": [
    "import pandas as pd\n",
    "import numpy as np\n",
    "import matplotlib.pyplot as plt\n",
    "from sklearn.model_selection import train_test_split\n",
    "from pycaret.regression import setup, compare_models, finalize_model, predict_model\n"
   ]
  },
  {
   "cell_type": "markdown",
   "metadata": {},
   "source": [
    "### Load the datasets"
   ]
  },
  {
   "cell_type": "code",
   "execution_count": 3,
   "metadata": {},
   "outputs": [
    {
     "name": "stdout",
     "output_type": "stream",
     "text": [
      "Loading training and testing datasets...\n",
      "Datasets loaded successfully.\n"
     ]
    }
   ],
   "source": [
    "# Load training and testing datasets\n",
    "print('Loading training and testing datasets...')\n",
    "train_data = pd.read_csv('datasets/train_data.csv')\n",
    "test_data = pd.read_csv('datasets/test_data.csv')\n",
    "print('Datasets loaded successfully.')\n"
   ]
  },
  {
   "cell_type": "markdown",
   "metadata": {},
   "source": [
    "### Extract features, drop unnecessary columns, and deal with the outliers from years to improve the model's precision"
   ]
  },
  {
   "cell_type": "code",
   "execution_count": 4,
   "metadata": {},
   "outputs": [],
   "source": [
    "# Step 3: Feature Engineering: Extract more features from the date\n",
    "train_data['year'] = pd.to_datetime(train_data['date_of_transfer']).dt.year\n",
    "train_data['month'] = pd.to_datetime(train_data['date_of_transfer']).dt.month\n",
    "test_data['year'] = pd.to_datetime(test_data['date_of_transfer']).dt.year\n",
    "test_data['month'] = pd.to_datetime(test_data['date_of_transfer']).dt.month\n",
    "\n",
    "# Drop irrelevant columns\n",
    "train_data = train_data.drop(columns=['transaction_unique_identifier', 'record_status_-_monthly_file_only'], errors='ignore')\n",
    "test_data = test_data.drop(columns=['transaction_unique_identifier', 'record_status_-_monthly_file_only'], errors='ignore')\n",
    "\n",
    "# Handling outliers using Z-score\n",
    "numeric_cols = train_data.select_dtypes(include=['float64', 'int64']).columns\n",
    "for col in numeric_cols:\n",
    "    z_scores = np.abs((train_data[col] - train_data[col].mean()) / train_data[col].std())\n",
    "    train_data = train_data[z_scores < 3]\n",
    "\n",
    "\n"
   ]
  },
  {
   "cell_type": "markdown",
   "metadata": {},
   "source": [
    "### The dataset is too big to create a model of it, it would take ages so I decided to reduce the size of the dataset with the sample() function. Funny thing I managed to find out, the more samples we have got, the higher the r2 score is.\n",
    "\n",
    "### Next we split the data into features (x) and target (y) to separate the dataset into features (input) and target (output)\n",
    "\n",
    "### After that, we are using the test dataset for testing and combinig the features and targets for the PyCaret setup."
   ]
  },
  {
   "cell_type": "code",
   "execution_count": 5,
   "metadata": {},
   "outputs": [],
   "source": [
    "\n",
    "# Reduce dataset size for faster modeling\n",
    "train_data_sampled = train_data.sample(100000, random_state=42)\n",
    "\n",
    "# Split data into features (X) and target (y)\n",
    "X_train = train_data_sampled.drop(columns=['price'])\n",
    "y_train = train_data_sampled['price']\n",
    "\n",
    "# Use the test dataset as is for testing\n",
    "X_test = test_data.drop(columns=['price'])\n",
    "y_test = test_data['price']\n",
    "\n",
    "# Combine features and target for PyCaret setup\n",
    "train_data_for_pycaret = pd.concat([X_train, y_train], axis=1)\n"
   ]
  },
  {
   "cell_type": "markdown",
   "metadata": {},
   "source": [
    "### Once we got this done, lets proceed to initializing PyCaret, setup the environment and compare models to look for the best one."
   ]
  },
  {
   "cell_type": "code",
   "execution_count": 6,
   "metadata": {},
   "outputs": [
    {
     "name": "stdout",
     "output_type": "stream",
     "text": [
      "Initializing PyCaret for regression...\n",
      "Setup completed. Proceeding with model comparison...\n",
      "Comparing models excluding LightGBM...\n"
     ]
    },
    {
     "data": {
      "text/html": [],
      "text/plain": [
       "<IPython.core.display.HTML object>"
      ]
     },
     "metadata": {},
     "output_type": "display_data"
    },
    {
     "data": {
      "text/html": [
       "<style type=\"text/css\">\n",
       "#T_4a6b4 th {\n",
       "  text-align: left;\n",
       "}\n",
       "#T_4a6b4_row0_col0, #T_4a6b4_row1_col0, #T_4a6b4_row1_col1, #T_4a6b4_row1_col2, #T_4a6b4_row1_col3, #T_4a6b4_row1_col4, #T_4a6b4_row1_col5, #T_4a6b4_row1_col6, #T_4a6b4_row2_col0, #T_4a6b4_row2_col1, #T_4a6b4_row2_col2, #T_4a6b4_row2_col3, #T_4a6b4_row2_col4, #T_4a6b4_row2_col5, #T_4a6b4_row2_col6, #T_4a6b4_row3_col0, #T_4a6b4_row3_col1, #T_4a6b4_row3_col2, #T_4a6b4_row3_col3, #T_4a6b4_row3_col4, #T_4a6b4_row3_col5, #T_4a6b4_row3_col6, #T_4a6b4_row4_col0, #T_4a6b4_row4_col1, #T_4a6b4_row4_col2, #T_4a6b4_row4_col3, #T_4a6b4_row4_col4, #T_4a6b4_row4_col5, #T_4a6b4_row4_col6, #T_4a6b4_row5_col0, #T_4a6b4_row5_col1, #T_4a6b4_row5_col2, #T_4a6b4_row5_col3, #T_4a6b4_row5_col4, #T_4a6b4_row5_col5, #T_4a6b4_row5_col6, #T_4a6b4_row6_col0, #T_4a6b4_row6_col1, #T_4a6b4_row6_col2, #T_4a6b4_row6_col3, #T_4a6b4_row6_col4, #T_4a6b4_row6_col5, #T_4a6b4_row6_col6, #T_4a6b4_row7_col0, #T_4a6b4_row7_col1, #T_4a6b4_row7_col2, #T_4a6b4_row7_col3, #T_4a6b4_row7_col4, #T_4a6b4_row7_col5, #T_4a6b4_row7_col6, #T_4a6b4_row8_col0, #T_4a6b4_row8_col1, #T_4a6b4_row8_col2, #T_4a6b4_row8_col3, #T_4a6b4_row8_col4, #T_4a6b4_row8_col5, #T_4a6b4_row8_col6, #T_4a6b4_row9_col0, #T_4a6b4_row9_col1, #T_4a6b4_row9_col2, #T_4a6b4_row9_col3, #T_4a6b4_row9_col4, #T_4a6b4_row9_col5, #T_4a6b4_row9_col6, #T_4a6b4_row10_col0, #T_4a6b4_row10_col1, #T_4a6b4_row10_col2, #T_4a6b4_row10_col3, #T_4a6b4_row10_col4, #T_4a6b4_row10_col5, #T_4a6b4_row10_col6, #T_4a6b4_row11_col0, #T_4a6b4_row11_col1, #T_4a6b4_row11_col2, #T_4a6b4_row11_col3, #T_4a6b4_row11_col4, #T_4a6b4_row11_col5, #T_4a6b4_row11_col6, #T_4a6b4_row12_col0, #T_4a6b4_row12_col1, #T_4a6b4_row12_col2, #T_4a6b4_row12_col3, #T_4a6b4_row12_col4, #T_4a6b4_row12_col5, #T_4a6b4_row12_col6, #T_4a6b4_row13_col0, #T_4a6b4_row13_col1, #T_4a6b4_row13_col2, #T_4a6b4_row13_col3, #T_4a6b4_row13_col4, #T_4a6b4_row13_col5, #T_4a6b4_row13_col6, #T_4a6b4_row14_col0, #T_4a6b4_row14_col1, #T_4a6b4_row14_col2, #T_4a6b4_row14_col3, #T_4a6b4_row14_col4, #T_4a6b4_row14_col5, #T_4a6b4_row14_col6, #T_4a6b4_row15_col0, #T_4a6b4_row15_col1, #T_4a6b4_row15_col2, #T_4a6b4_row15_col3, #T_4a6b4_row15_col4, #T_4a6b4_row15_col5, #T_4a6b4_row15_col6 {\n",
       "  text-align: left;\n",
       "}\n",
       "#T_4a6b4_row0_col1, #T_4a6b4_row0_col2, #T_4a6b4_row0_col3, #T_4a6b4_row0_col4, #T_4a6b4_row0_col5, #T_4a6b4_row0_col6 {\n",
       "  text-align: left;\n",
       "  background-color: yellow;\n",
       "}\n",
       "#T_4a6b4_row0_col7, #T_4a6b4_row1_col7, #T_4a6b4_row2_col7, #T_4a6b4_row3_col7, #T_4a6b4_row4_col7, #T_4a6b4_row5_col7, #T_4a6b4_row6_col7, #T_4a6b4_row7_col7, #T_4a6b4_row8_col7, #T_4a6b4_row9_col7, #T_4a6b4_row10_col7, #T_4a6b4_row11_col7, #T_4a6b4_row12_col7, #T_4a6b4_row13_col7, #T_4a6b4_row14_col7 {\n",
       "  text-align: left;\n",
       "  background-color: lightgrey;\n",
       "}\n",
       "#T_4a6b4_row15_col7 {\n",
       "  text-align: left;\n",
       "  background-color: yellow;\n",
       "  background-color: lightgrey;\n",
       "}\n",
       "</style>\n",
       "<table id=\"T_4a6b4\">\n",
       "  <thead>\n",
       "    <tr>\n",
       "      <th class=\"blank level0\" >&nbsp;</th>\n",
       "      <th id=\"T_4a6b4_level0_col0\" class=\"col_heading level0 col0\" >Model</th>\n",
       "      <th id=\"T_4a6b4_level0_col1\" class=\"col_heading level0 col1\" >MAE</th>\n",
       "      <th id=\"T_4a6b4_level0_col2\" class=\"col_heading level0 col2\" >MSE</th>\n",
       "      <th id=\"T_4a6b4_level0_col3\" class=\"col_heading level0 col3\" >RMSE</th>\n",
       "      <th id=\"T_4a6b4_level0_col4\" class=\"col_heading level0 col4\" >R2</th>\n",
       "      <th id=\"T_4a6b4_level0_col5\" class=\"col_heading level0 col5\" >RMSLE</th>\n",
       "      <th id=\"T_4a6b4_level0_col6\" class=\"col_heading level0 col6\" >MAPE</th>\n",
       "      <th id=\"T_4a6b4_level0_col7\" class=\"col_heading level0 col7\" >TT (Sec)</th>\n",
       "    </tr>\n",
       "  </thead>\n",
       "  <tbody>\n",
       "    <tr>\n",
       "      <th id=\"T_4a6b4_level0_row0\" class=\"row_heading level0 row0\" >rf</th>\n",
       "      <td id=\"T_4a6b4_row0_col0\" class=\"data row0 col0\" >Random Forest Regressor</td>\n",
       "      <td id=\"T_4a6b4_row0_col1\" class=\"data row0 col1\" >62606.7321</td>\n",
       "      <td id=\"T_4a6b4_row0_col2\" class=\"data row0 col2\" >8560625474.2270</td>\n",
       "      <td id=\"T_4a6b4_row0_col3\" class=\"data row0 col3\" >92514.9477</td>\n",
       "      <td id=\"T_4a6b4_row0_col4\" class=\"data row0 col4\" >0.5367</td>\n",
       "      <td id=\"T_4a6b4_row0_col5\" class=\"data row0 col5\" >0.3803</td>\n",
       "      <td id=\"T_4a6b4_row0_col6\" class=\"data row0 col6\" >0.3281</td>\n",
       "      <td id=\"T_4a6b4_row0_col7\" class=\"data row0 col7\" >5.4180</td>\n",
       "    </tr>\n",
       "    <tr>\n",
       "      <th id=\"T_4a6b4_level0_row1\" class=\"row_heading level0 row1\" >lr</th>\n",
       "      <td id=\"T_4a6b4_row1_col0\" class=\"data row1 col0\" >Linear Regression</td>\n",
       "      <td id=\"T_4a6b4_row1_col1\" class=\"data row1 col1\" >65732.8647</td>\n",
       "      <td id=\"T_4a6b4_row1_col2\" class=\"data row1 col2\" >8932645061.8181</td>\n",
       "      <td id=\"T_4a6b4_row1_col3\" class=\"data row1 col3\" >94507.9386</td>\n",
       "      <td id=\"T_4a6b4_row1_col4\" class=\"data row1 col4\" >0.5166</td>\n",
       "      <td id=\"T_4a6b4_row1_col5\" class=\"data row1 col5\" >0.4227</td>\n",
       "      <td id=\"T_4a6b4_row1_col6\" class=\"data row1 col6\" >0.3474</td>\n",
       "      <td id=\"T_4a6b4_row1_col7\" class=\"data row1 col7\" >1.0840</td>\n",
       "    </tr>\n",
       "    <tr>\n",
       "      <th id=\"T_4a6b4_level0_row2\" class=\"row_heading level0 row2\" >lasso</th>\n",
       "      <td id=\"T_4a6b4_row2_col0\" class=\"data row2 col0\" >Lasso Regression</td>\n",
       "      <td id=\"T_4a6b4_row2_col1\" class=\"data row2 col1\" >65732.8365</td>\n",
       "      <td id=\"T_4a6b4_row2_col2\" class=\"data row2 col2\" >8932669298.6234</td>\n",
       "      <td id=\"T_4a6b4_row2_col3\" class=\"data row2 col3\" >94508.0676</td>\n",
       "      <td id=\"T_4a6b4_row2_col4\" class=\"data row2 col4\" >0.5166</td>\n",
       "      <td id=\"T_4a6b4_row2_col5\" class=\"data row2 col5\" >0.4227</td>\n",
       "      <td id=\"T_4a6b4_row2_col6\" class=\"data row2 col6\" >0.3474</td>\n",
       "      <td id=\"T_4a6b4_row2_col7\" class=\"data row2 col7\" >1.7270</td>\n",
       "    </tr>\n",
       "    <tr>\n",
       "      <th id=\"T_4a6b4_level0_row3\" class=\"row_heading level0 row3\" >ridge</th>\n",
       "      <td id=\"T_4a6b4_row3_col0\" class=\"data row3 col0\" >Ridge Regression</td>\n",
       "      <td id=\"T_4a6b4_row3_col1\" class=\"data row3 col1\" >65732.9251</td>\n",
       "      <td id=\"T_4a6b4_row3_col2\" class=\"data row3 col2\" >8932659923.0988</td>\n",
       "      <td id=\"T_4a6b4_row3_col3\" class=\"data row3 col3\" >94508.0177</td>\n",
       "      <td id=\"T_4a6b4_row3_col4\" class=\"data row3 col4\" >0.5166</td>\n",
       "      <td id=\"T_4a6b4_row3_col5\" class=\"data row3 col5\" >0.4227</td>\n",
       "      <td id=\"T_4a6b4_row3_col6\" class=\"data row3 col6\" >0.3474</td>\n",
       "      <td id=\"T_4a6b4_row3_col7\" class=\"data row3 col7\" >0.2120</td>\n",
       "    </tr>\n",
       "    <tr>\n",
       "      <th id=\"T_4a6b4_level0_row4\" class=\"row_heading level0 row4\" >lar</th>\n",
       "      <td id=\"T_4a6b4_row4_col0\" class=\"data row4 col0\" >Least Angle Regression</td>\n",
       "      <td id=\"T_4a6b4_row4_col1\" class=\"data row4 col1\" >65732.8647</td>\n",
       "      <td id=\"T_4a6b4_row4_col2\" class=\"data row4 col2\" >8932645061.8176</td>\n",
       "      <td id=\"T_4a6b4_row4_col3\" class=\"data row4 col3\" >94507.9386</td>\n",
       "      <td id=\"T_4a6b4_row4_col4\" class=\"data row4 col4\" >0.5166</td>\n",
       "      <td id=\"T_4a6b4_row4_col5\" class=\"data row4 col5\" >0.4227</td>\n",
       "      <td id=\"T_4a6b4_row4_col6\" class=\"data row4 col6\" >0.3474</td>\n",
       "      <td id=\"T_4a6b4_row4_col7\" class=\"data row4 col7\" >0.2210</td>\n",
       "    </tr>\n",
       "    <tr>\n",
       "      <th id=\"T_4a6b4_level0_row5\" class=\"row_heading level0 row5\" >llar</th>\n",
       "      <td id=\"T_4a6b4_row5_col0\" class=\"data row5 col0\" >Lasso Least Angle Regression</td>\n",
       "      <td id=\"T_4a6b4_row5_col1\" class=\"data row5 col1\" >65732.8574</td>\n",
       "      <td id=\"T_4a6b4_row5_col2\" class=\"data row5 col2\" >8932669363.7223</td>\n",
       "      <td id=\"T_4a6b4_row5_col3\" class=\"data row5 col3\" >94508.0680</td>\n",
       "      <td id=\"T_4a6b4_row5_col4\" class=\"data row5 col4\" >0.5166</td>\n",
       "      <td id=\"T_4a6b4_row5_col5\" class=\"data row5 col5\" >0.4227</td>\n",
       "      <td id=\"T_4a6b4_row5_col6\" class=\"data row5 col6\" >0.3474</td>\n",
       "      <td id=\"T_4a6b4_row5_col7\" class=\"data row5 col7\" >0.2250</td>\n",
       "    </tr>\n",
       "    <tr>\n",
       "      <th id=\"T_4a6b4_level0_row6\" class=\"row_heading level0 row6\" >et</th>\n",
       "      <td id=\"T_4a6b4_row6_col0\" class=\"data row6 col0\" >Extra Trees Regressor</td>\n",
       "      <td id=\"T_4a6b4_row6_col1\" class=\"data row6 col1\" >64453.6643</td>\n",
       "      <td id=\"T_4a6b4_row6_col2\" class=\"data row6 col2\" >9203126547.5142</td>\n",
       "      <td id=\"T_4a6b4_row6_col3\" class=\"data row6 col3\" >95923.7984</td>\n",
       "      <td id=\"T_4a6b4_row6_col4\" class=\"data row6 col4\" >0.5020</td>\n",
       "      <td id=\"T_4a6b4_row6_col5\" class=\"data row6 col5\" >0.3921</td>\n",
       "      <td id=\"T_4a6b4_row6_col6\" class=\"data row6 col6\" >0.3351</td>\n",
       "      <td id=\"T_4a6b4_row6_col7\" class=\"data row6 col7\" >4.4880</td>\n",
       "    </tr>\n",
       "    <tr>\n",
       "      <th id=\"T_4a6b4_level0_row7\" class=\"row_heading level0 row7\" >en</th>\n",
       "      <td id=\"T_4a6b4_row7_col0\" class=\"data row7 col0\" >Elastic Net</td>\n",
       "      <td id=\"T_4a6b4_row7_col1\" class=\"data row7 col1\" >71758.7510</td>\n",
       "      <td id=\"T_4a6b4_row7_col2\" class=\"data row7 col2\" >10428191009.6690</td>\n",
       "      <td id=\"T_4a6b4_row7_col3\" class=\"data row7 col3\" >102113.7831</td>\n",
       "      <td id=\"T_4a6b4_row7_col4\" class=\"data row7 col4\" >0.4357</td>\n",
       "      <td id=\"T_4a6b4_row7_col5\" class=\"data row7 col5\" >0.4364</td>\n",
       "      <td id=\"T_4a6b4_row7_col6\" class=\"data row7 col6\" >0.3987</td>\n",
       "      <td id=\"T_4a6b4_row7_col7\" class=\"data row7 col7\" >0.4190</td>\n",
       "    </tr>\n",
       "    <tr>\n",
       "      <th id=\"T_4a6b4_level0_row8\" class=\"row_heading level0 row8\" >ada</th>\n",
       "      <td id=\"T_4a6b4_row8_col0\" class=\"data row8 col0\" >AdaBoost Regressor</td>\n",
       "      <td id=\"T_4a6b4_row8_col1\" class=\"data row8 col1\" >82613.8756</td>\n",
       "      <td id=\"T_4a6b4_row8_col2\" class=\"data row8 col2\" >11277645104.1327</td>\n",
       "      <td id=\"T_4a6b4_row8_col3\" class=\"data row8 col3\" >106155.1502</td>\n",
       "      <td id=\"T_4a6b4_row8_col4\" class=\"data row8 col4\" >0.3896</td>\n",
       "      <td id=\"T_4a6b4_row8_col5\" class=\"data row8 col5\" >0.4873</td>\n",
       "      <td id=\"T_4a6b4_row8_col6\" class=\"data row8 col6\" >0.5193</td>\n",
       "      <td id=\"T_4a6b4_row8_col7\" class=\"data row8 col7\" >1.0560</td>\n",
       "    </tr>\n",
       "    <tr>\n",
       "      <th id=\"T_4a6b4_level0_row9\" class=\"row_heading level0 row9\" >br</th>\n",
       "      <td id=\"T_4a6b4_row9_col0\" class=\"data row9 col0\" >Bayesian Ridge</td>\n",
       "      <td id=\"T_4a6b4_row9_col1\" class=\"data row9 col1\" >79615.4726</td>\n",
       "      <td id=\"T_4a6b4_row9_col2\" class=\"data row9 col2\" >12305871417.3326</td>\n",
       "      <td id=\"T_4a6b4_row9_col3\" class=\"data row9 col3\" >110927.6755</td>\n",
       "      <td id=\"T_4a6b4_row9_col4\" class=\"data row9 col4\" >0.3340</td>\n",
       "      <td id=\"T_4a6b4_row9_col5\" class=\"data row9 col5\" >0.4825</td>\n",
       "      <td id=\"T_4a6b4_row9_col6\" class=\"data row9 col6\" >0.4533</td>\n",
       "      <td id=\"T_4a6b4_row9_col7\" class=\"data row9 col7\" >0.2290</td>\n",
       "    </tr>\n",
       "    <tr>\n",
       "      <th id=\"T_4a6b4_level0_row10\" class=\"row_heading level0 row10\" >omp</th>\n",
       "      <td id=\"T_4a6b4_row10_col0\" class=\"data row10 col0\" >Orthogonal Matching Pursuit</td>\n",
       "      <td id=\"T_4a6b4_row10_col1\" class=\"data row10 col1\" >80379.3729</td>\n",
       "      <td id=\"T_4a6b4_row10_col2\" class=\"data row10 col2\" >12553529262.5665</td>\n",
       "      <td id=\"T_4a6b4_row10_col3\" class=\"data row10 col3\" >112036.0149</td>\n",
       "      <td id=\"T_4a6b4_row10_col4\" class=\"data row10 col4\" >0.3207</td>\n",
       "      <td id=\"T_4a6b4_row10_col5\" class=\"data row10 col5\" >0.4831</td>\n",
       "      <td id=\"T_4a6b4_row10_col6\" class=\"data row10 col6\" >0.4567</td>\n",
       "      <td id=\"T_4a6b4_row10_col7\" class=\"data row10 col7\" >0.2070</td>\n",
       "    </tr>\n",
       "    <tr>\n",
       "      <th id=\"T_4a6b4_level0_row11\" class=\"row_heading level0 row11\" >huber</th>\n",
       "      <td id=\"T_4a6b4_row11_col0\" class=\"data row11 col0\" >Huber Regressor</td>\n",
       "      <td id=\"T_4a6b4_row11_col1\" class=\"data row11 col1\" >76645.2411</td>\n",
       "      <td id=\"T_4a6b4_row11_col2\" class=\"data row11 col2\" >12786375313.2551</td>\n",
       "      <td id=\"T_4a6b4_row11_col3\" class=\"data row11 col3\" >113070.6839</td>\n",
       "      <td id=\"T_4a6b4_row11_col4\" class=\"data row11 col4\" >0.3081</td>\n",
       "      <td id=\"T_4a6b4_row11_col5\" class=\"data row11 col5\" >0.4675</td>\n",
       "      <td id=\"T_4a6b4_row11_col6\" class=\"data row11 col6\" >0.3900</td>\n",
       "      <td id=\"T_4a6b4_row11_col7\" class=\"data row11 col7\" >0.4300</td>\n",
       "    </tr>\n",
       "    <tr>\n",
       "      <th id=\"T_4a6b4_level0_row12\" class=\"row_heading level0 row12\" >knn</th>\n",
       "      <td id=\"T_4a6b4_row12_col0\" class=\"data row12 col0\" >K Neighbors Regressor</td>\n",
       "      <td id=\"T_4a6b4_row12_col1\" class=\"data row12 col1\" >84665.2023</td>\n",
       "      <td id=\"T_4a6b4_row12_col2\" class=\"data row12 col2\" >14025916518.4000</td>\n",
       "      <td id=\"T_4a6b4_row12_col3\" class=\"data row12 col3\" >118426.4477</td>\n",
       "      <td id=\"T_4a6b4_row12_col4\" class=\"data row12 col4\" >0.2409</td>\n",
       "      <td id=\"T_4a6b4_row12_col5\" class=\"data row12 col5\" >0.5080</td>\n",
       "      <td id=\"T_4a6b4_row12_col6\" class=\"data row12 col6\" >0.4708</td>\n",
       "      <td id=\"T_4a6b4_row12_col7\" class=\"data row12 col7\" >0.2560</td>\n",
       "    </tr>\n",
       "    <tr>\n",
       "      <th id=\"T_4a6b4_level0_row13\" class=\"row_heading level0 row13\" >dt</th>\n",
       "      <td id=\"T_4a6b4_row13_col0\" class=\"data row13 col0\" >Decision Tree Regressor</td>\n",
       "      <td id=\"T_4a6b4_row13_col1\" class=\"data row13 col1\" >84158.6922</td>\n",
       "      <td id=\"T_4a6b4_row13_col2\" class=\"data row13 col2\" >15767670694.8754</td>\n",
       "      <td id=\"T_4a6b4_row13_col3\" class=\"data row13 col3\" >125556.0787</td>\n",
       "      <td id=\"T_4a6b4_row13_col4\" class=\"data row13 col4\" >0.1466</td>\n",
       "      <td id=\"T_4a6b4_row13_col5\" class=\"data row13 col5\" >0.5036</td>\n",
       "      <td id=\"T_4a6b4_row13_col6\" class=\"data row13 col6\" >0.4299</td>\n",
       "      <td id=\"T_4a6b4_row13_col7\" class=\"data row13 col7\" >0.3100</td>\n",
       "    </tr>\n",
       "    <tr>\n",
       "      <th id=\"T_4a6b4_level0_row14\" class=\"row_heading level0 row14\" >par</th>\n",
       "      <td id=\"T_4a6b4_row14_col0\" class=\"data row14 col0\" >Passive Aggressive Regressor</td>\n",
       "      <td id=\"T_4a6b4_row14_col1\" class=\"data row14 col1\" >95643.6947</td>\n",
       "      <td id=\"T_4a6b4_row14_col2\" class=\"data row14 col2\" >15991365173.7056</td>\n",
       "      <td id=\"T_4a6b4_row14_col3\" class=\"data row14 col3\" >126245.9313</td>\n",
       "      <td id=\"T_4a6b4_row14_col4\" class=\"data row14 col4\" >0.1347</td>\n",
       "      <td id=\"T_4a6b4_row14_col5\" class=\"data row14 col5\" >0.5732</td>\n",
       "      <td id=\"T_4a6b4_row14_col6\" class=\"data row14 col6\" >0.5623</td>\n",
       "      <td id=\"T_4a6b4_row14_col7\" class=\"data row14 col7\" >0.2360</td>\n",
       "    </tr>\n",
       "    <tr>\n",
       "      <th id=\"T_4a6b4_level0_row15\" class=\"row_heading level0 row15\" >dummy</th>\n",
       "      <td id=\"T_4a6b4_row15_col0\" class=\"data row15 col0\" >Dummy Regressor</td>\n",
       "      <td id=\"T_4a6b4_row15_col1\" class=\"data row15 col1\" >101051.1438</td>\n",
       "      <td id=\"T_4a6b4_row15_col2\" class=\"data row15 col2\" >18485133312.0000</td>\n",
       "      <td id=\"T_4a6b4_row15_col3\" class=\"data row15 col3\" >135950.5250</td>\n",
       "      <td id=\"T_4a6b4_row15_col4\" class=\"data row15 col4\" >-0.0002</td>\n",
       "      <td id=\"T_4a6b4_row15_col5\" class=\"data row15 col5\" >0.6098</td>\n",
       "      <td id=\"T_4a6b4_row15_col6\" class=\"data row15 col6\" >0.6418</td>\n",
       "      <td id=\"T_4a6b4_row15_col7\" class=\"data row15 col7\" >0.1980</td>\n",
       "    </tr>\n",
       "  </tbody>\n",
       "</table>\n"
      ],
      "text/plain": [
       "<pandas.io.formats.style.Styler at 0x21136583f10>"
      ]
     },
     "metadata": {},
     "output_type": "display_data"
    },
    {
     "data": {
      "text/html": [],
      "text/plain": [
       "<IPython.core.display.HTML object>"
      ]
     },
     "metadata": {},
     "output_type": "display_data"
    },
    {
     "name": "stdout",
     "output_type": "stream",
     "text": [
      "Best model selected.\n"
     ]
    }
   ],
   "source": [
    "\n",
    "# Initialize PyCaret for regression with training data\n",
    "print(\"Initializing PyCaret for regression...\")\n",
    "reg_experiment = setup(data=train_data_for_pycaret,\n",
    "                       target='price',\n",
    "                       session_id=42,\n",
    "                       verbose=False)\n",
    "print(\"Setup completed. Proceeding with model comparison...\")\n",
    "\n",
    "print(\"Comparing models excluding LightGBM...\")\n",
    "best_model = compare_models(exclude=['lightgbm', 'lgbm', 'lgb', 'gbr', 'xgboost', 'catboost'])\n",
    "print(\"Best model selected.\")\n"
   ]
  },
  {
   "cell_type": "markdown",
   "metadata": {},
   "source": [
    "### In my case the GradientBooster won, but because I am currently using it in a different model I chose to exclude this one and use the model that performed the best except for GradientBooster"
   ]
  },
  {
   "cell_type": "markdown",
   "metadata": {},
   "source": [
    "### The next step is to finalize the model that will be used in our predictions"
   ]
  },
  {
   "cell_type": "code",
   "execution_count": 7,
   "metadata": {},
   "outputs": [
    {
     "name": "stdout",
     "output_type": "stream",
     "text": [
      "Finalizing the best model...\n"
     ]
    }
   ],
   "source": [
    "\n",
    "# Finalize the best model\n",
    "print(\"Finalizing the best model...\")\n",
    "final_model = finalize_model(best_model)\n"
   ]
  },
  {
   "cell_type": "markdown",
   "metadata": {},
   "source": [
    "### Now, we can start making predictions for the years 2016-17 based on the model trained on the data from the years 2009-2015. After that, I extractet the year and month from date_of_transaction by converting it into datetime format. Then I ensured the DataFrame for predicions matches the test data length and at the end added the columns Year, Month and Actual Price to our prediction dataframe"
   ]
  },
  {
   "cell_type": "code",
   "execution_count": 8,
   "metadata": {},
   "outputs": [
    {
     "name": "stdout",
     "output_type": "stream",
     "text": [
      "Making predictions on the test data...\n"
     ]
    },
    {
     "data": {
      "text/html": [],
      "text/plain": [
       "<IPython.core.display.HTML object>"
      ]
     },
     "metadata": {},
     "output_type": "display_data"
    },
    {
     "name": "stdout",
     "output_type": "stream",
     "text": [
      "Adding year and month columns...\n"
     ]
    }
   ],
   "source": [
    "\n",
    "# Make predictions on the test data (which includes years 2016 and 2017)\n",
    "print(\"Making predictions on the test data...\")\n",
    "predictions = predict_model(final_model, data=X_test)\n",
    "\n",
    "# Ensure predictions DataFrame matches test data length\n",
    "predictions = predictions.reset_index(drop=True)\n",
    "test_data = test_data.reset_index(drop=True)\n",
    "\n",
    "# Add year and month columns to both the test and prediction dataframes\n",
    "print(\"Adding year and month columns...\")\n",
    "test_data['year'] = pd.to_datetime(test_data['date_of_transfer']).dt.year\n",
    "test_data['month'] = pd.to_datetime(test_data['date_of_transfer']).dt.month\n",
    "\n",
    "# Ensure the length matches\n",
    "if len(predictions) != len(test_data):\n",
    "    min_length = min(len(predictions), len(test_data))\n",
    "    predictions = predictions[:min_length]\n",
    "    test_data = test_data[:min_length]\n",
    "\n",
    "# Add year, month, and actual price columns to predictions DataFrame\n",
    "label_column = 'Label' if 'Label' in predictions.columns else 'prediction_label'\n",
    "predictions['year'] = test_data['year']\n",
    "predictions['month'] = test_data['month']\n",
    "predictions['price'] = y_test.values\n"
   ]
  },
  {
   "cell_type": "markdown",
   "metadata": {},
   "source": [
    "### In the second last step we have to save the predictions to compare them with the actual data from the test.csv"
   ]
  },
  {
   "cell_type": "code",
   "execution_count": 9,
   "metadata": {},
   "outputs": [
    {
     "name": "stdout",
     "output_type": "stream",
     "text": [
      "Predictions saved to datasets/predictions_pycaret.csv\n"
     ]
    }
   ],
   "source": [
    "\n",
    "# Save predictions for comparison\n",
    "predictions_path = 'datasets/predictions_pycaret.csv'\n",
    "predictions.to_csv(predictions_path, index=False)\n",
    "print(f\"Predictions saved to {predictions_path}\")\n"
   ]
  },
  {
   "cell_type": "markdown",
   "metadata": {},
   "source": [
    "### And finally, I created a comparision between the prediction and the actual UK Housing prices and ended up with this beautiful graph."
   ]
  },
  {
   "cell_type": "code",
   "execution_count": 10,
   "metadata": {},
   "outputs": [
    {
     "name": "stdout",
     "output_type": "stream",
     "text": [
      "Aggregating data for better visualization...\n"
     ]
    },
    {
     "data": {
      "image/png": "[encoded data removed]",
      "text/plain": [
       "<Figure size 1000x600 with 1 Axes>"
      ]
     },
     "metadata": {},
     "output_type": "display_data"
    }
   ],
   "source": [
    "\n",
    "# Aggregating Data for Better Visualization\n",
    "print(\"Aggregating data for better visualization...\")\n",
    "aggregated_data = predictions.groupby(['year', 'month']).agg({'price': 'mean', label_column: 'mean'}).reset_index()\n",
    "aggregated_data['year_month'] = aggregated_data['year'].astype(str) + '-' + aggregated_data['month'].astype(str)\n",
    "\n",
    "# Plot actual vs predicted values over time\n",
    "plt.figure(figsize=(10, 6))\n",
    "plt.plot(aggregated_data['year_month'], aggregated_data['price'], label='Actual Price', color='blue')\n",
    "plt.plot(aggregated_data['year_month'], aggregated_data[label_column], label='Predicted Price', color='red', linestyle='--')\n",
    "plt.xlabel('Year and Month')\n",
    "plt.ylabel('Price (in £)')\n",
    "plt.xticks(rotation=45)\n",
    "plt.title('Actual vs Predicted Prices Over Time')\n",
    "plt.legend()\n",
    "plt.tight_layout()\n",
    "plt.show()\n"
   ]
  }
 ],
 "metadata": {
  "kernelspec": {
   "display_name": ".venv",
   "language": "python",
   "name": "python3"
  },
  "language_info": {
   "codemirror_mode": {
    "name": "ipython",
    "version": 3
   },
   "file_extension": ".py",
   "mimetype": "text/x-python",
   "name": "python",
   "nbconvert_exporter": "python",
   "pygments_lexer": "ipython3",
   "version": "3.11.8"
  }
 },
 "nbformat": 4,
 "nbformat_minor": 2
}
