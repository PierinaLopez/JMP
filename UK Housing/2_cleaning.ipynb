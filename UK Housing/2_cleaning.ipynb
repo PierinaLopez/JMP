{
 "cells": [
  {
   "cell_type": "code",
   "execution_count": null,
   "metadata": {},
   "outputs": [],
   "source": [
    "import os\n",
    "import pandas as pd\n",
    "import boto3\n",
    "import os\n",
    "import numpy as np\n",
    "import matplotlib.pyplot as plt\n",
    "import seaborn as sns\n",
    "from sklearn.impute import SimpleImputer"
   ]
  },
  {
   "cell_type": "code",
   "execution_count": null,
   "metadata": {},
   "outputs": [],
   "source": [
    "# Step 1: Load CSV from S3\n",
    "\n",
    "# Define the S3 URI for the original CSV dataset\n",
    "s3_csv_uri = 's3://bucketjdrygalska/price_paid_records.csv'\n",
    "\n",
    "# Load the CSV file from S3\n",
    "print(\"Loading CSV from S3...\")\n",
    "df = pd.read_csv(s3_csv_uri)\n",
    "print(\"CSV loaded successfully!\")\n",
    "\n",
    "# Remove the first 70% of rows\n",
    "percent_to_remove = 70\n",
    "rows_to_remove = int(len(df) * (percent_to_remove / 100))\n",
    "df_subset = df.iloc[rows_to_remove:]\n",
    "print(f\"Removed the first {percent_to_remove}% of rows. Remaining rows: {len(df_subset)}\")\n",
    "\n",
    "# Define the local path to save files inside the UK Housing directory\n",
    "local_path = './datasets/'\n",
    "\n",
    "# Ensure the local path exists\n",
    "if not os.path.exists(local_path):\n",
    "    os.makedirs(local_path)\n",
    "\n",
    "# Save the subset DataFrame to CSV format (locally, inside UK Housing directory)\n",
    "local_csv_path = local_path + 'price_paid_records_subset.csv'\n",
    "print(\"Saving subset dataset as CSV locally...\")\n",
    "df_subset.to_csv(local_csv_path, index=False)\n",
    "print(\"Subset dataset saved as CSV locally successfully!\")\n"
   ]
  },
  {
   "cell_type": "code",
   "execution_count": 10,
   "metadata": {},
   "outputs": [
    {
     "name": "stdout",
     "output_type": "stream",
     "text": [
      "Subset dataset loaded from CSV successfully!\n",
      "Optimized subset dataset is ready for further processing.\n"
     ]
    }
   ],
   "source": [
    "# Step 2: Load the Optimized Subset Dataset from Local Storage for Faster Access\n",
    "\n",
    "# Load from CSV format (directly from local directory)\n",
    "print(\"Loading subset dataset from CSV...\")\n",
    "df = pd.read_csv(local_csv_path)\n",
    "print(\"Subset dataset loaded from CSV successfully!\")\n",
    "\n",
    "# Optimize data types before further processing\n",
    "# Convert object columns to category to save memory\n",
    "for column in df.select_dtypes(include='object').columns:\n",
    "    df[column] = df[column].astype('category')\n",
    "\n",
    "# Convert float64 columns to float32 to reduce memory usage\n",
    "for column in df.select_dtypes(include='float64').columns:\n",
    "    df[column] = df[column].astype('float32')\n",
    "\n",
    "# The dataset is now ready for further analysis or modeling\n",
    "print(\"Optimized subset dataset is ready for further processing.\")"
   ]
  },
  {
   "cell_type": "code",
   "execution_count": 11,
   "metadata": {},
   "outputs": [
    {
     "name": "stdout",
     "output_type": "stream",
     "text": [
      "Renamed columns to remove spaces and convert to lowercase.\n",
      "Checking for missing values...\n",
      "transaction_unique_identifier        0\n",
      "price                                0\n",
      "date_of_transfer                     0\n",
      "property_type                        0\n",
      "old/new                              0\n",
      "duration                             0\n",
      "town/city                            0\n",
      "district                             0\n",
      "county                               0\n",
      "ppdcategory_type                     0\n",
      "record_status_-_monthly_file_only    0\n",
      "dtype: int64\n",
      "Imputed missing values in numeric columns using the mean strategy.\n",
      "Handling categorical columns...\n",
      "Labeled column duration as ordered categorical.\n"
     ]
    }
   ],
   "source": [
    "# Step 3: Clean the Data\n",
    "\n",
    "# Rename columns to remove spaces and make all lowercase\n",
    "df.columns = df.columns.str.replace(' ', '_').str.lower()\n",
    "print(\"Renamed columns to remove spaces and convert to lowercase.\")\n",
    "\n",
    "# Check for missing values (NaNs)\n",
    "print(\"Checking for missing values...\")\n",
    "missing_values = df.isna().sum()\n",
    "print(missing_values)\n",
    "\n",
    "# Impute missing values using different techniques (mean, median, mode)\n",
    "df_numeric = df.select_dtypes(include=['float64', 'int64'])\n",
    "df_non_numeric = df.select_dtypes(exclude=['float64', 'int64'])\n",
    "\n",
    "imputer_mean = SimpleImputer(strategy='mean')\n",
    "# Impute missing values for numeric columns using mean\n",
    "df_numeric_imputed = pd.DataFrame(imputer_mean.fit_transform(df_numeric), columns=df_numeric.columns)\n",
    "print(\"Imputed missing values in numeric columns using the mean strategy.\")\n",
    "\n",
    "# Combine imputed numeric data with non-numeric data\n",
    "df = pd.concat([df_numeric_imputed, df_non_numeric], axis=1)\n",
    "\n",
    "# Handle categorical columns and label them as ordered if applicable\n",
    "print(\"Handling categorical columns...\")\n",
    "for column in df.select_dtypes(include=['object']).columns:\n",
    "    df[column] = df[column].astype('category')\n",
    "    print(f\"Converted column {column} to categorical type.\")\n",
    "\n",
    "# Check for ordered categoricals and label them\n",
    "ordered_columns = ['duration']  # Example: Assuming 'duration' is an ordered categorical column\n",
    "for column in ordered_columns:\n",
    "    if column in df.columns:\n",
    "        df[column] = df[column].cat.as_ordered()\n",
    "        print(f\"Labeled column {column} as ordered categorical.\")\n"
   ]
  }
 ],
 "metadata": {
  "kernelspec": {
   "display_name": ".venv",
   "language": "python",
   "name": "python3"
  },
  "language_info": {
   "codemirror_mode": {
    "name": "ipython",
    "version": 3
   },
   "file_extension": ".py",
   "mimetype": "text/x-python",
   "name": "python",
   "nbconvert_exporter": "python",
   "pygments_lexer": "ipython3",
   "version": "3.11.8"
  }
 },
 "nbformat": 4,
 "nbformat_minor": 2
}
