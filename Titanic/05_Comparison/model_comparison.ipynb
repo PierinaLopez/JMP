{
 "cells": [
  {
   "cell_type": "markdown",
   "metadata": {},
   "source": [
    "**Authors:** Pierina Lopez **rnumber:** r0913865\n",
    "# Model comparision\n",
    " This notebook compares the performance of three models: Logistic Regression, XGBoost, and PyCaret's Best Model. \n",
    " It computes accuracy, precision, and recall for each model using the Titanic dataset and visualizes the results.\n",
    "\n"
   ]
  },
  {
   "cell_type": "code",
   "execution_count": 3,
   "metadata": {},
   "outputs": [
    {
     "name": "stdout",
     "output_type": "stream",
     "text": [
      "                 Model  Accuracy  Precision  Recall\n",
      "0  Logistic Regression    0.7865     0.7900  0.7900\n",
      "1              XGBoost    0.7528     0.7500  0.7500\n",
      "2   PyCaret Best Model    0.8870     0.7956  0.6768\n"
     ]
    }
   ],
   "source": [
    "# Import necessary libraries\n",
    "import pandas as pd\n",
    "\n",
    "# Define metrics for comparison\n",
    "comparison_data = {\n",
    "    \"Model\": [\"Logistic Regression\", \"XGBoost\", \"PyCaret Best Model\"],\n",
    "    \"Accuracy\": [0.7865, 0.7528, 0.8870],  # Replace with actual results\n",
    "    \"Precision\": [0.79, 0.75, 0.7956],  # Replace with actual results\n",
    "    \"Recall\": [0.79, 0.75, 0.6768],  # Replace with actual results\n",
    "}\n",
    "\n",
    "# Create a DataFrame\n",
    "comparison_df = pd.DataFrame(comparison_data)\n",
    "\n",
    "# Save metrics to a CSV file\n",
    "comparison_df.to_csv('../Metrics/model_comparison.csv', index=False)\n",
    "\n",
    "# Display the comparison\n",
    "print(comparison_df)\n"
   ]
  },
  {
   "cell_type": "code",
   "execution_count": 32,
   "metadata": {},
   "outputs": [
    {
     "name": "stdout",
     "output_type": "stream",
     "text": [
      "Transformation Pipeline and Model Successfully Loaded\n",
      "      Model  Accuracy  Precision    Recall\n",
      "0  Logistic  0.800900   0.760383  0.700000\n",
      "1   Xgboost  0.825647   0.774481  0.767647\n",
      "2   Pycaret  0.887514   0.908163  0.785294\n"
     ]
    }
   ],
   "source": [
    "# %% Import Required Libraries\n",
    "import pandas as pd\n",
    "import pickle\n",
    "from sklearn.metrics import accuracy_score, precision_score, recall_score\n",
    "from pycaret.classification import load_model\n",
    "\n",
    "# %% Load Data\n",
    "df = pd.read_csv('../03_Final_Import/titanic_prepared.csv')\n",
    "\n",
    "# %% Load Models\n",
    "with open('../Pickle-Files/logistic_model.pkl', 'rb') as f:\n",
    "    logistic_model = pickle.load(f)\n",
    "\n",
    "with open('../Pickle-Files/xgb_model.pkl', 'rb') as f:\n",
    "    xgb_model = pickle.load(f)\n",
    "\n",
    "pycaret_best_model = load_model('../Pickle-Files/pycaret_best_model')\n",
    "\n",
    "# %% Predictions with Logistic Regression\n",
    "logistic_features = df.columns.drop('survived')  # All columns except 'survived'\n",
    "df['logistic_survived'] = logistic_model.predict(df[logistic_features])\n",
    "\n",
    "# %% Predictions with XGBoost\n",
    "xgb_features = ['pclass', 'age', 'sibsp', 'parch', 'fare', 'sex_female', 'embarked_2', 'embarked_3']\n",
    "df_xgb_input = df[xgb_features].copy()\n",
    "\n",
    "# Ensure feature alignment for XGBoost\n",
    "expected_features = xgb_model.get_booster().feature_names\n",
    "missing_features = set(expected_features) - set(df_xgb_input.columns)\n",
    "for feature in missing_features:\n",
    "    df_xgb_input[feature] = 0  # Default value\n",
    "\n",
    "df_xgb_input = df_xgb_input[expected_features]  # Reorder features\n",
    "df['xgboost_survived'] = xgb_model.predict(df_xgb_input)\n",
    "\n",
    "# %% Predictions with PyCaret\n",
    "# Exclude 'survived' and any prediction columns when passing data to PyCaret\n",
    "pycaret_input = df.drop(columns=['survived', 'logistic_survived', 'xgboost_survived'])\n",
    "df['pycaret_survived'] = pycaret_best_model.predict(pycaret_input)\n",
    "\n",
    "# %% Compute and Display Metrics for Each Model\n",
    "models = ['logistic', 'xgboost', 'pycaret']\n",
    "results = []\n",
    "\n",
    "for model in models:\n",
    "    y_true = df['survived']\n",
    "    y_pred = df[f'{model}_survived']\n",
    "    \n",
    "    accuracy = accuracy_score(y_true, y_pred)\n",
    "    precision = precision_score(y_true, y_pred)\n",
    "    recall = recall_score(y_true, y_pred)\n",
    "    \n",
    "    results.append({'Model': model.capitalize(), 'Accuracy': accuracy, 'Precision': precision, 'Recall': recall})\n",
    "\n",
    "# Create a results DataFrame and display it\n",
    "results_df = pd.DataFrame(results)\n",
    "print(results_df)\n",
    "\n",
    "# %% Save Results\n",
    "results_df.to_csv('../05_Comparison/model_comparison_results.csv', index=False)\n"
   ]
  }
 ],
 "metadata": {
  "kernelspec": {
   "display_name": "Python 3",
   "language": "python",
   "name": "python3"
  },
  "language_info": {
   "codemirror_mode": {
    "name": "ipython",
    "version": 3
   },
   "file_extension": ".py",
   "mimetype": "text/x-python",
   "name": "python",
   "nbconvert_exporter": "python",
   "pygments_lexer": "ipython3",
   "version": "3.10.11"
  }
 },
 "nbformat": 4,
 "nbformat_minor": 2
}
