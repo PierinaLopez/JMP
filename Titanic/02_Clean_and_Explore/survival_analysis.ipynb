{
 "cells": [
  {
   "cell_type": "markdown",
   "metadata": {},
   "source": [
    "**Authors:** Pierina Lopez **rnumber:** r0913865\n",
    "# Survival Analysis with Model Predictions\n",
    "This notebook extends survival analysis by incorporating predictions from the trained machine learning models.\n",
    "\n",
    "## Steps:\n",
    "1. Analyze overall survival rates.\n",
    "2. Use trained models to predict survival.\n",
    "3. Compare model predictions with actual survival rates.\n",
    "4. Save updated survival results.\n"
   ]
  },
  {
   "cell_type": "code",
   "execution_count": 8,
   "metadata": {},
   "outputs": [
    {
     "name": "stdout",
     "output_type": "stream",
     "text": [
      "Predictions added and saved to '../05_Comparison/titanic_with_predictions.csv'.\n"
     ]
    }
   ],
   "source": [
    "import pandas as pd\n",
    "import pickle\n",
    "\n",
    "# Load prepared dataset\n",
    "df = pd.read_csv('../03_Final_Import/titanic_prepared.csv')\n",
    "\n",
    "# Load predictions\n",
    "logistic_model_predictions = pd.read_csv('../05_Comparison/logistic_model_predictions.csv')\n",
    "xgboost_model_predictions = pd.read_csv('../05_Comparison/xgboost_model_predictions.csv')\n",
    "\n",
    "# Add survival predictions to the DataFrame\n",
    "# Match the column names in the prediction files\n",
    "df['logistic_survived'] = logistic_model_predictions['logistic_survived']\n",
    "df['xgboost_survived'] = xgboost_model_predictions['xgboost_survived']\n",
    "\n",
    "# Save the updated DataFrame with predictions\n",
    "df.to_csv('../05_Comparison/titanic_with_predictions.csv', index=False)\n",
    "print(\"Predictions added and saved to '../05_Comparison/titanic_with_predictions.csv'.\")\n"
   ]
  }
 ],
 "metadata": {
  "kernelspec": {
   "display_name": "Python 3",
   "language": "python",
   "name": "python3"
  },
  "language_info": {
   "codemirror_mode": {
    "name": "ipython",
    "version": 3
   },
   "file_extension": ".py",
   "mimetype": "text/x-python",
   "name": "python",
   "nbconvert_exporter": "python",
   "pygments_lexer": "ipython3",
   "version": "3.10.11"
  }
 },
 "nbformat": 4,
 "nbformat_minor": 2
}
