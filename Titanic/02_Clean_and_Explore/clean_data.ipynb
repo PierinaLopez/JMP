{
 "cells": [
  {
   "cell_type": "markdown",
   "metadata": {},
   "source": [
    "**Authors:** Pierina Lopez **rnumber:** r0913865\n",
    "# Cleaning Titanic Data\n",
    "This notebook prepares the Titanic dataset for analysis by:\n",
    "1. Renaming columns for consistency.\n",
    "2. Removing irrelevant columns.\n",
    "3. Handling missing values.\n",
    "4. Encoding categorical variables for machine learning."
   ]
  },
  {
   "cell_type": "code",
   "execution_count": 3,
   "metadata": {},
   "outputs": [
    {
     "name": "stdout",
     "output_type": "stream",
     "text": [
      "Index(['passengerid', 'survived', 'pclass', 'sex', 'age', 'sibsp', 'parch',\n",
      "       'fare', 'embarked'],\n",
      "      dtype='object')\n",
      "Cleaned dataset saved as 'titanic_cleaned.csv'.\n"
     ]
    }
   ],
   "source": [
    "# Import necessary libraries\n",
    "import pandas as pd\n",
    "\n",
    "# Load dataset\n",
    "# The train dataset contains passenger details and survival status\n",
    "df = pd.read_csv('../01_Scrape/titanic_train.csv')\n",
    "\n",
    "# Rename columns to lowercase and remove spaces for easier handling\n",
    "df.columns = df.columns.str.lower().str.replace(' ', '_')\n",
    "\n",
    "# Check the columns in the dataset\n",
    "print(df.columns)\n",
    "\n",
    "# Define the columns to drop\n",
    "columns_to_drop = ['cabin', 'boat', 'body', 'home.dest']\n",
    "\n",
    "# Drop columns that exist in the dataset\n",
    "df.drop([col for col in columns_to_drop if col in df.columns], axis=1, inplace=True)\n",
    "\n",
    "\n",
    "# Handle missing values by imputing the median for numerical columns and mode for categorical columns\n",
    "df['age'].fillna(df['age'].median(), inplace=True)\n",
    "df['embarked'].fillna(df['embarked'].mode()[0], inplace=True)\n",
    "\n",
    "# Encode categorical variables into numeric format for machine learning\n",
    "df = pd.get_dummies(df, columns=['sex', 'embarked'], drop_first=True)\n",
    "\n",
    "# Save the cleaned dataset for further analysis\n",
    "df.to_csv('titanic_cleaned.csv', index=False)\n",
    "print(\"Cleaned dataset saved as 'titanic_cleaned.csv'.\")\n"
   ]
  }
 ],
 "metadata": {
  "kernelspec": {
   "display_name": "Python 3",
   "language": "python",
   "name": "python3"
  },
  "language_info": {
   "codemirror_mode": {
    "name": "ipython",
    "version": 3
   },
   "file_extension": ".py",
   "mimetype": "text/x-python",
   "name": "python",
   "nbconvert_exporter": "python",
   "pygments_lexer": "ipython3",
   "version": "3.10.11"
  }
 },
 "nbformat": 4,
 "nbformat_minor": 2
}
