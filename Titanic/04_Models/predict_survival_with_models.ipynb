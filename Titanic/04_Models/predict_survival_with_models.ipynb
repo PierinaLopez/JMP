{
 "cells": [
  {
   "cell_type": "markdown",
   "metadata": {},
   "source": [
    "**Authors:** Pierina Lopez **rnumber:** r0913865\n",
    "# Predict Survival Using Trained Models\n",
    "This notebook predicts Titanic survival using trained logistic regression, XGBoost, and PyCaret models.\n",
    "\n",
    "## Steps:\n",
    "1. Load the prepared dataset.\n",
    "2. Load the trained models.\n",
    "3. Generate predictions for survival.\n",
    "4. Save predictions to CSV for analysis.\n"
   ]
  },
  {
   "cell_type": "code",
   "execution_count": 2,
   "metadata": {},
   "outputs": [
    {
     "name": "stdout",
     "output_type": "stream",
     "text": [
      "Survival predictions saved.\n"
     ]
    }
   ],
   "source": [
    "import pandas as pd\n",
    "import pickle\n",
    "\n",
    "# Load prepared dataset\n",
    "df = pd.read_csv('../03_Final_Import/titanic_prepared.csv')\n",
    "\n",
    "# Load trained models\n",
    "with open('../Pickle-Files/logistic_model.pkl', 'rb') as f:\n",
    "    logistic_model = pickle.load(f)\n",
    "\n",
    "with open('../Pickle-Files/xgb_model.pkl', 'rb') as f:\n",
    "    xgb_model = pickle.load(f)\n",
    "\n",
    "# Make predictions\n",
    "df['logistic_survived'] = logistic_model.predict(df.drop(columns=['survived']))\n",
    "\n",
    "# Ensure consistent features for XGBoost prediction\n",
    "xgb_features = ['passengerid', 'pclass', 'age', 'sibsp', 'parch', 'fare', 'sex_female', 'embarked_2', 'embarked_3']\n",
    "df['xgboost_survived'] = xgb_model.predict(df[xgb_features])\n",
    "\n",
    "# Save predictions\n",
    "df[['passengerid', 'logistic_survived']].to_csv('../05_Comparison/logistic_model_predictions.csv', index=False)\n",
    "df[['passengerid', 'xgboost_survived']].to_csv('../05_Comparison/xgboost_model_predictions.csv', index=False)\n",
    "\n",
    "print(\"Survival predictions saved.\")\n"
   ]
  }
 ],
 "metadata": {
  "kernelspec": {
   "display_name": "Python 3",
   "language": "python",
   "name": "python3"
  },
  "language_info": {
   "codemirror_mode": {
    "name": "ipython",
    "version": 3
   },
   "file_extension": ".py",
   "mimetype": "text/x-python",
   "name": "python",
   "nbconvert_exporter": "python",
   "pygments_lexer": "ipython3",
   "version": "3.10.11"
  }
 },
 "nbformat": 4,
 "nbformat_minor": 2
}
