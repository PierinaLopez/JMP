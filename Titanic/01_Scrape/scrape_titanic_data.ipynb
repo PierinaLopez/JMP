{
 "cells": [
  {
   "cell_type": "markdown",
   "metadata": {},
   "source": [
    "**Authors:** Pierina Lopez **rnumber:** r0913865\n",
    "# Scraping Titanic Data\n",
    "This notebook loads the Titanic dataset from uploaded files and saves them locally as CSV files for consistency and future use.\n"
   ]
  },
  {
   "cell_type": "code",
   "execution_count": 7,
   "metadata": {},
   "outputs": [
    {
     "name": "stdout",
     "output_type": "stream",
     "text": [
      "Datasets saved locally as 'titanic_train.csv' and 'titanic_test.csv'.\n"
     ]
    }
   ],
   "source": [
    "# Import necessary libraries\n",
    "import pandas as pd\n",
    "\n",
    "# Load train and test datasets\n",
    "# These datasets contain information on passengers and their survival status\n",
    "train_df = pd.read_csv('../train.csv')\n",
    "test_df = pd.read_csv('../test.csv')\n",
    "\n",
    "# Save datasets locally for further processing\n",
    "train_df.to_csv('titanic_train.csv', index=False)\n",
    "test_df.to_csv('titanic_test.csv', index=False)\n",
    "\n",
    "print(\"Datasets saved locally as 'titanic_train.csv' and 'titanic_test.csv'.\")\n"
   ]
  }
 ],
 "metadata": {
  "kernelspec": {
   "display_name": "Python 3",
   "language": "python",
   "name": "python3"
  },
  "language_info": {
   "codemirror_mode": {
    "name": "ipython",
    "version": 3
   },
   "file_extension": ".py",
   "mimetype": "text/x-python",
   "name": "python",
   "nbconvert_exporter": "python",
   "pygments_lexer": "ipython3",
   "version": "3.10.11"
  }
 },
 "nbformat": 4,
 "nbformat_minor": 2
}
