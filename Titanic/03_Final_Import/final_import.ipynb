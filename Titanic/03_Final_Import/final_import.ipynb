{
 "cells": [
  {
   "cell_type": "markdown",
   "metadata": {},
   "source": [
    "**Authors:** Pierina Lopez **rnumber:** r0913865\n",
    "# Final Import\n",
    "This notebook consolidates all cleaning steps into one streamlined process to prepare the Titanic dataset for machine learning."
   ]
  },
  {
   "cell_type": "code",
   "execution_count": 2,
   "metadata": {},
   "outputs": [
    {
     "name": "stdout",
     "output_type": "stream",
     "text": [
      "Prepared dataset saved as 'titanic_prepared.csv'.\n"
     ]
    }
   ],
   "source": [
    "# Import necessary libraries\n",
    "import pandas as pd\n",
    "\n",
    "# Load raw data\n",
    "# This is the uncleaned dataset directly from the source\n",
    "df = pd.read_csv('../01_Scrape/titanic_train.csv')\n",
    "\n",
    "# Rename columns for consistency and easier handling\n",
    "df.columns = df.columns.str.lower().str.replace(' ', '_')\n",
    "\n",
    "# Define the columns to drop\n",
    "columns_to_drop = ['cabin', 'boat', 'body', 'home.dest']\n",
    "\n",
    "# Drop columns that exist in the dataset\n",
    "df.drop([col for col in columns_to_drop if col in df.columns], axis=1, inplace=True)\n",
    "\n",
    "# Handle missing values using median for numerical and mode for categorical data\n",
    "df['age'].fillna(df['age'].median(), inplace=True)\n",
    "df['embarked'].fillna(df['embarked'].mode()[0], inplace=True)\n",
    "\n",
    "# Encode categorical variables into numeric format\n",
    "df = pd.get_dummies(df, columns=['sex', 'embarked'], drop_first=True)\n",
    "\n",
    "# Save the prepared dataset for machine learning\n",
    "df.to_csv('titanic_prepared.csv', index=False)\n",
    "print(\"Prepared dataset saved as 'titanic_prepared.csv'.\")\n"
   ]
  }
 ],
 "metadata": {
  "kernelspec": {
   "display_name": "Python 3",
   "language": "python",
   "name": "python3"
  },
  "language_info": {
   "codemirror_mode": {
    "name": "ipython",
    "version": 3
   },
   "file_extension": ".py",
   "mimetype": "text/x-python",
   "name": "python",
   "nbconvert_exporter": "python",
   "pygments_lexer": "ipython3",
   "version": "3.10.11"
  }
 },
 "nbformat": 4,
 "nbformat_minor": 2
}
